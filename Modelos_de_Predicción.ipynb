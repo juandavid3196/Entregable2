{
  "nbformat": 4,
  "nbformat_minor": 0,
  "metadata": {
    "colab": {
      "provenance": [],
      "mount_file_id": "1a1LO-JcGolr8AVQ6uePM8vvfLQ3PO1C2",
      "authorship_tag": "ABX9TyM+GatD/vAf8MQBhLB+DPKW",
      "include_colab_link": true
    },
    "kernelspec": {
      "name": "python3",
      "display_name": "Python 3"
    },
    "language_info": {
      "name": "python"
    }
  },
  "cells": [
    {
      "cell_type": "markdown",
      "metadata": {
        "id": "view-in-github",
        "colab_type": "text"
      },
      "source": [
        "<a href=\"https://colab.research.google.com/github/juandavid3196/Entregable2/blob/master/Modelos_de_Predicci%C3%B3n.ipynb\" target=\"_parent\"><img src=\"https://colab.research.google.com/assets/colab-badge.svg\" alt=\"Open In Colab\"/></a>"
      ]
    },
    {
      "cell_type": "markdown",
      "source": [
        "# **A. Entrenamiento y evaluacion de modelos.**"
      ],
      "metadata": {
        "id": "2wLZ6L5nPkDN"
      }
    },
    {
      "cell_type": "markdown",
      "source": [
        "# **Modelo de Predicción**"
      ],
      "metadata": {
        "id": "F6caLMY7zQKj"
      }
    },
    {
      "cell_type": "code",
      "execution_count": 1,
      "metadata": {
        "colab": {
          "base_uri": "https://localhost:8080/"
        },
        "id": "zdeWi1tayP8U",
        "outputId": "7086e1eb-26fd-4a7f-c022-c7402b10a9d6"
      },
      "outputs": [
        {
          "output_type": "stream",
          "name": "stdout",
          "text": [
            "Looking in indexes: https://pypi.org/simple, https://us-python.pkg.dev/colab-wheels/public/simple/\n",
            "Requirement already satisfied: numpy in /usr/local/lib/python3.10/dist-packages (1.22.4)\n",
            "Requirement already satisfied: pandas in /usr/local/lib/python3.10/dist-packages (1.5.3)\n",
            "Requirement already satisfied: scikit-learn in /usr/local/lib/python3.10/dist-packages (1.2.2)\n",
            "Requirement already satisfied: python-dateutil>=2.8.1 in /usr/local/lib/python3.10/dist-packages (from pandas) (2.8.2)\n",
            "Requirement already satisfied: pytz>=2020.1 in /usr/local/lib/python3.10/dist-packages (from pandas) (2022.7.1)\n",
            "Requirement already satisfied: scipy>=1.3.2 in /usr/local/lib/python3.10/dist-packages (from scikit-learn) (1.10.1)\n",
            "Requirement already satisfied: joblib>=1.1.1 in /usr/local/lib/python3.10/dist-packages (from scikit-learn) (1.2.0)\n",
            "Requirement already satisfied: threadpoolctl>=2.0.0 in /usr/local/lib/python3.10/dist-packages (from scikit-learn) (3.1.0)\n",
            "Requirement already satisfied: six>=1.5 in /usr/local/lib/python3.10/dist-packages (from python-dateutil>=2.8.1->pandas) (1.16.0)\n",
            "Looking in indexes: https://pypi.org/simple, https://us-python.pkg.dev/colab-wheels/public/simple/\n",
            "Requirement already satisfied: tensorflow in /usr/local/lib/python3.10/dist-packages (2.12.0)\n",
            "Requirement already satisfied: absl-py>=1.0.0 in /usr/local/lib/python3.10/dist-packages (from tensorflow) (1.4.0)\n",
            "Requirement already satisfied: astunparse>=1.6.0 in /usr/local/lib/python3.10/dist-packages (from tensorflow) (1.6.3)\n",
            "Requirement already satisfied: flatbuffers>=2.0 in /usr/local/lib/python3.10/dist-packages (from tensorflow) (23.3.3)\n",
            "Requirement already satisfied: gast<=0.4.0,>=0.2.1 in /usr/local/lib/python3.10/dist-packages (from tensorflow) (0.4.0)\n",
            "Requirement already satisfied: google-pasta>=0.1.1 in /usr/local/lib/python3.10/dist-packages (from tensorflow) (0.2.0)\n",
            "Requirement already satisfied: grpcio<2.0,>=1.24.3 in /usr/local/lib/python3.10/dist-packages (from tensorflow) (1.54.0)\n",
            "Requirement already satisfied: h5py>=2.9.0 in /usr/local/lib/python3.10/dist-packages (from tensorflow) (3.8.0)\n",
            "Requirement already satisfied: jax>=0.3.15 in /usr/local/lib/python3.10/dist-packages (from tensorflow) (0.4.10)\n",
            "Requirement already satisfied: keras<2.13,>=2.12.0 in /usr/local/lib/python3.10/dist-packages (from tensorflow) (2.12.0)\n",
            "Requirement already satisfied: libclang>=13.0.0 in /usr/local/lib/python3.10/dist-packages (from tensorflow) (16.0.0)\n",
            "Requirement already satisfied: numpy<1.24,>=1.22 in /usr/local/lib/python3.10/dist-packages (from tensorflow) (1.22.4)\n",
            "Requirement already satisfied: opt-einsum>=2.3.2 in /usr/local/lib/python3.10/dist-packages (from tensorflow) (3.3.0)\n",
            "Requirement already satisfied: packaging in /usr/local/lib/python3.10/dist-packages (from tensorflow) (23.1)\n",
            "Requirement already satisfied: protobuf!=4.21.0,!=4.21.1,!=4.21.2,!=4.21.3,!=4.21.4,!=4.21.5,<5.0.0dev,>=3.20.3 in /usr/local/lib/python3.10/dist-packages (from tensorflow) (3.20.3)\n",
            "Requirement already satisfied: setuptools in /usr/local/lib/python3.10/dist-packages (from tensorflow) (67.7.2)\n",
            "Requirement already satisfied: six>=1.12.0 in /usr/local/lib/python3.10/dist-packages (from tensorflow) (1.16.0)\n",
            "Requirement already satisfied: tensorboard<2.13,>=2.12 in /usr/local/lib/python3.10/dist-packages (from tensorflow) (2.12.2)\n",
            "Requirement already satisfied: tensorflow-estimator<2.13,>=2.12.0 in /usr/local/lib/python3.10/dist-packages (from tensorflow) (2.12.0)\n",
            "Requirement already satisfied: termcolor>=1.1.0 in /usr/local/lib/python3.10/dist-packages (from tensorflow) (2.3.0)\n",
            "Requirement already satisfied: typing-extensions>=3.6.6 in /usr/local/lib/python3.10/dist-packages (from tensorflow) (4.5.0)\n",
            "Requirement already satisfied: wrapt<1.15,>=1.11.0 in /usr/local/lib/python3.10/dist-packages (from tensorflow) (1.14.1)\n",
            "Requirement already satisfied: tensorflow-io-gcs-filesystem>=0.23.1 in /usr/local/lib/python3.10/dist-packages (from tensorflow) (0.32.0)\n",
            "Requirement already satisfied: wheel<1.0,>=0.23.0 in /usr/local/lib/python3.10/dist-packages (from astunparse>=1.6.0->tensorflow) (0.40.0)\n",
            "Requirement already satisfied: ml-dtypes>=0.1.0 in /usr/local/lib/python3.10/dist-packages (from jax>=0.3.15->tensorflow) (0.1.0)\n",
            "Requirement already satisfied: scipy>=1.7 in /usr/local/lib/python3.10/dist-packages (from jax>=0.3.15->tensorflow) (1.10.1)\n",
            "Requirement already satisfied: google-auth<3,>=1.6.3 in /usr/local/lib/python3.10/dist-packages (from tensorboard<2.13,>=2.12->tensorflow) (2.17.3)\n",
            "Requirement already satisfied: google-auth-oauthlib<1.1,>=0.5 in /usr/local/lib/python3.10/dist-packages (from tensorboard<2.13,>=2.12->tensorflow) (1.0.0)\n",
            "Requirement already satisfied: markdown>=2.6.8 in /usr/local/lib/python3.10/dist-packages (from tensorboard<2.13,>=2.12->tensorflow) (3.4.3)\n",
            "Requirement already satisfied: requests<3,>=2.21.0 in /usr/local/lib/python3.10/dist-packages (from tensorboard<2.13,>=2.12->tensorflow) (2.27.1)\n",
            "Requirement already satisfied: tensorboard-data-server<0.8.0,>=0.7.0 in /usr/local/lib/python3.10/dist-packages (from tensorboard<2.13,>=2.12->tensorflow) (0.7.0)\n",
            "Requirement already satisfied: tensorboard-plugin-wit>=1.6.0 in /usr/local/lib/python3.10/dist-packages (from tensorboard<2.13,>=2.12->tensorflow) (1.8.1)\n",
            "Requirement already satisfied: werkzeug>=1.0.1 in /usr/local/lib/python3.10/dist-packages (from tensorboard<2.13,>=2.12->tensorflow) (2.3.0)\n",
            "Requirement already satisfied: cachetools<6.0,>=2.0.0 in /usr/local/lib/python3.10/dist-packages (from google-auth<3,>=1.6.3->tensorboard<2.13,>=2.12->tensorflow) (5.3.0)\n",
            "Requirement already satisfied: pyasn1-modules>=0.2.1 in /usr/local/lib/python3.10/dist-packages (from google-auth<3,>=1.6.3->tensorboard<2.13,>=2.12->tensorflow) (0.3.0)\n",
            "Requirement already satisfied: rsa<5,>=3.1.4 in /usr/local/lib/python3.10/dist-packages (from google-auth<3,>=1.6.3->tensorboard<2.13,>=2.12->tensorflow) (4.9)\n",
            "Requirement already satisfied: requests-oauthlib>=0.7.0 in /usr/local/lib/python3.10/dist-packages (from google-auth-oauthlib<1.1,>=0.5->tensorboard<2.13,>=2.12->tensorflow) (1.3.1)\n",
            "Requirement already satisfied: urllib3<1.27,>=1.21.1 in /usr/local/lib/python3.10/dist-packages (from requests<3,>=2.21.0->tensorboard<2.13,>=2.12->tensorflow) (1.26.15)\n",
            "Requirement already satisfied: certifi>=2017.4.17 in /usr/local/lib/python3.10/dist-packages (from requests<3,>=2.21.0->tensorboard<2.13,>=2.12->tensorflow) (2022.12.7)\n",
            "Requirement already satisfied: charset-normalizer~=2.0.0 in /usr/local/lib/python3.10/dist-packages (from requests<3,>=2.21.0->tensorboard<2.13,>=2.12->tensorflow) (2.0.12)\n",
            "Requirement already satisfied: idna<4,>=2.5 in /usr/local/lib/python3.10/dist-packages (from requests<3,>=2.21.0->tensorboard<2.13,>=2.12->tensorflow) (3.4)\n",
            "Requirement already satisfied: MarkupSafe>=2.1.1 in /usr/local/lib/python3.10/dist-packages (from werkzeug>=1.0.1->tensorboard<2.13,>=2.12->tensorflow) (2.1.2)\n",
            "Requirement already satisfied: pyasn1<0.6.0,>=0.4.6 in /usr/local/lib/python3.10/dist-packages (from pyasn1-modules>=0.2.1->google-auth<3,>=1.6.3->tensorboard<2.13,>=2.12->tensorflow) (0.5.0)\n",
            "Requirement already satisfied: oauthlib>=3.0.0 in /usr/local/lib/python3.10/dist-packages (from requests-oauthlib>=0.7.0->google-auth-oauthlib<1.1,>=0.5->tensorboard<2.13,>=2.12->tensorflow) (3.2.2)\n"
          ]
        }
      ],
      "source": [
        "!pip install numpy pandas scikit-learn\n",
        "!pip install --upgrade tensorflow\n",
        "\n",
        "import numpy as np\n",
        "import pandas as pd\n",
        "import seaborn as sns\n",
        "from scipy.spatial.distance import cdist\n",
        "import matplotlib.pyplot as plt\n",
        "from sklearn.feature_selection import SequentialFeatureSelector\n",
        "from sklearn.neural_network import MLPClassifier\n",
        "from sklearn.tree import DecisionTreeClassifier\n",
        "from sklearn.model_selection import train_test_split\n",
        "from sklearn.neighbors import KernelDensity\n",
        "from sklearn.discriminant_analysis import LinearDiscriminantAnalysis\n",
        "from sklearn.ensemble import GradientBoostingClassifier\n",
        "from sklearn.metrics import classification_report,confusion_matrix\n",
        "from sklearn.metrics import accuracy_score, precision_score, recall_score, f1_score\n",
        "from sklearn.preprocessing import StandardScaler\n",
        "from sklearn.svm import SVC"
      ]
    },
    {
      "cell_type": "code",
      "source": [
        "#Importar dataset desde Drive.\n",
        "df = pd.read_csv('/content/drive/MyDrive/Version final.csv', sep=';')\n"
      ],
      "metadata": {
        "id": "c1Liqka4zr3_"
      },
      "execution_count": 2,
      "outputs": []
    },
    {
      "cell_type": "markdown",
      "source": [
        "**Metodos y Variables**"
      ],
      "metadata": {
        "id": "v-gWi7nkFJVJ"
      }
    },
    {
      "cell_type": "code",
      "source": [
        "\n",
        "#características (X) y etiquetas de clase (y).\n",
        "X = df[['Crossing', 'Finishing', 'Volleys', 'Dribbling', 'BallControl', 'Agility', 'Interceptions']].values\n",
        "y = df['Position'].map({1: 'Ofensivo', 2: 'Defensivo'}).values\n",
        "\n",
        "#conjuntos de entrenamiento y prueba.\n",
        "X_train, X_test, y_train, y_test = train_test_split(X, y, test_size=0.2, random_state=42)\n",
        "\n",
        "#METODOS\n",
        "\n",
        "# Evaluar el modelo\n",
        "def testModel(y_test,y_pred):\n",
        "  print(classification_report(y_test, y_pred))\n",
        "  print(confusion_matrix(y_test, y_pred))\n",
        "\n",
        "def performanceMeasure(y_test,y_pred): \n",
        "  # Calcular medidas de desempeño\n",
        "  accuracy = accuracy_score(y_test, y_pred)\n",
        "  precision = precision_score(y_test, y_pred, pos_label='Defensivo')\n",
        "  recall = recall_score(y_test, y_pred, pos_label='Defensivo')\n",
        "  f1 = f1_score(y_test, y_pred, pos_label='Defensivo')\n",
        "\n",
        "  # Imprimir las medidas de desempeño\n",
        "  print(\"Exactitud:\", accuracy)\n",
        "  print(\"Precisión:\", precision)\n",
        "  print(\"Recall:\", recall)\n",
        "  print(\"F1-Score:\", f1)\n",
        "\n",
        "def trainModel(model,X_train, y_train):\n",
        "  model.fit(X_train, y_train)\n",
        "\n",
        "#MODELOS\n",
        "# Funcion general para probar un modelo\n",
        "def modelTest(model,X_test,y_test,X_train,y_train):\n",
        "  trainModel(model,X_train, y_train)\n",
        "  y_pred = model.predict(X_test)\n",
        "  testModel(y_test,y_pred)  \n",
        "  performanceMeasure(y_test,y_pred)\n",
        "\n",
        "# Funcion general para probar un modelo con datos de PCA.\n",
        "def modelTestPCA(model,X_test_pca,y_test,X_train_pca,y_train):\n",
        "  model.fit(X_train_pca,y_train)\n",
        "  y_pred = model.predict(X_test_pca)\n",
        "  testModel(y_test,y_pred)  \n",
        "  performanceMeasure(y_test,y_pred)\n",
        "\n",
        "# Funcion general para probar un modelo con caracteristicas especificas.\n",
        "def modelTestASS(model,X_train,y_train,X_test,y_test):\n",
        "  #Características deseadas\n",
        "  X_train_selected = X_train[:, [1, 3, 6]] \n",
        "  X_test_selected = X_test[:, [1, 3, 6]]\n",
        "  model.fit(X_train_selected, y_train)\n",
        "  y_pred = model.predict(X_test_selected)\n",
        "  testModel(y_test,y_pred)\n",
        "  performanceMeasure(y_test,y_pred)\n",
        "\n",
        "def parzen_window(X_train, X_test, h):\n",
        "    n_train = X_train.shape[0]\n",
        "    n_test = X_test.shape[0]\n",
        "    n_features = X_train.shape[1]\n",
        "    distances = cdist(X_train, X_test, metric='euclidean')\n",
        "    # Calcula la función de densidad de Parzen\n",
        "    pdf = np.sum(np.exp(-distances**2 / (2 * h**2)), axis=0) / (np.sqrt(2 * np.pi) * h)**n_features\n",
        "    return pdf\n"
      ],
      "metadata": {
        "id": "u3jeM9NmFGvI"
      },
      "execution_count": 3,
      "outputs": []
    },
    {
      "cell_type": "markdown",
      "source": [
        "# **Modelos de Predicción**"
      ],
      "metadata": {
        "id": "VNBifV3jJLID"
      }
    },
    {
      "cell_type": "markdown",
      "source": [
        "**Analisis Discriminante Cuadratico**"
      ],
      "metadata": {
        "id": "ZWQpEKqMBNFP"
      }
    },
    {
      "cell_type": "code",
      "source": [
        "model = LinearDiscriminantAnalysis()\n",
        "modelTest(model,X_test,y_test,X_train,y_train)"
      ],
      "metadata": {
        "colab": {
          "base_uri": "https://localhost:8080/"
        },
        "id": "eG6V7ijABRMk",
        "outputId": "eaf8619f-7a66-460e-9767-d24a525230e6"
      },
      "execution_count": 4,
      "outputs": [
        {
          "output_type": "stream",
          "name": "stdout",
          "text": [
            "              precision    recall  f1-score   support\n",
            "\n",
            "   Defensivo       0.87      0.93      0.90      1856\n",
            "    Ofensivo       0.92      0.86      0.89      1768\n",
            "\n",
            "    accuracy                           0.89      3624\n",
            "   macro avg       0.90      0.89      0.89      3624\n",
            "weighted avg       0.90      0.89      0.89      3624\n",
            "\n",
            "[[1722  134]\n",
            " [ 248 1520]]\n",
            "Exactitud: 0.8945916114790287\n",
            "Precisión: 0.8741116751269036\n",
            "Recall: 0.927801724137931\n",
            "F1-Score: 0.9001568217459488\n"
          ]
        }
      ]
    },
    {
      "cell_type": "markdown",
      "source": [
        " **Ventana de Parzen (Metodo kernel)**"
      ],
      "metadata": {
        "id": "KFTXXAfvBor1"
      }
    },
    {
      "cell_type": "code",
      "source": [
        "# Normalizar características.\n",
        "scaler = StandardScaler()\n",
        "X_train = scaler.fit_transform(X_train)\n",
        "X_test = scaler.transform(X_test)\n",
        "\n",
        "#Ancho de la ventana.\n",
        "h = 0.5\n",
        "\n",
        "#Función de densidad de Parzen.\n",
        "pdf = parzen_window(X_train, X_test, h)\n",
        "\n",
        "#Aplicar un umbral.\n",
        "y_pred = np.where(pdf >= 0.5, 'Defensivo', 'Ofensivo')\n",
        "\n",
        "#Evaluar el modelo.\n",
        "testModel(y_test,y_pred)  \n",
        "performanceMeasure(y_test,y_pred)"
      ],
      "metadata": {
        "colab": {
          "base_uri": "https://localhost:8080/"
        },
        "id": "Kj4lzH2ZGyqr",
        "outputId": "3d325892-ebc4-4faf-c208-83afbda80102"
      },
      "execution_count": 5,
      "outputs": [
        {
          "output_type": "stream",
          "name": "stdout",
          "text": [
            "              precision    recall  f1-score   support\n",
            "\n",
            "   Defensivo       0.51      0.99      0.68      1856\n",
            "    Ofensivo       0.38      0.00      0.01      1768\n",
            "\n",
            "    accuracy                           0.51      3624\n",
            "   macro avg       0.44      0.50      0.34      3624\n",
            "weighted avg       0.44      0.51      0.35      3624\n",
            "\n",
            "[[1846   10]\n",
            " [1762    6]]\n",
            "Exactitud: 0.5110375275938189\n",
            "Precisión: 0.511640798226164\n",
            "Recall: 0.9946120689655172\n",
            "F1-Score: 0.6756954612005857\n"
          ]
        }
      ]
    },
    {
      "cell_type": "markdown",
      "source": [
        " **Gradiente Boostring Tree**"
      ],
      "metadata": {
        "id": "3EEkZjs45Xe-"
      }
    },
    {
      "cell_type": "code",
      "source": [
        "model = GradientBoostingClassifier()\n",
        "modelTest(model,X_test,y_test,X_train,y_train)"
      ],
      "metadata": {
        "colab": {
          "base_uri": "https://localhost:8080/"
        },
        "id": "mLoz1q3V5dp4",
        "outputId": "8e0d7a61-9552-45f8-977c-c004929a383e"
      },
      "execution_count": 6,
      "outputs": [
        {
          "output_type": "stream",
          "name": "stdout",
          "text": [
            "              precision    recall  f1-score   support\n",
            "\n",
            "   Defensivo       0.89      0.92      0.91      1856\n",
            "    Ofensivo       0.92      0.88      0.90      1768\n",
            "\n",
            "    accuracy                           0.90      3624\n",
            "   macro avg       0.90      0.90      0.90      3624\n",
            "weighted avg       0.90      0.90      0.90      3624\n",
            "\n",
            "[[1715  141]\n",
            " [ 219 1549]]\n",
            "Exactitud: 0.9006622516556292\n",
            "Precisión: 0.8867631851085832\n",
            "Recall: 0.9240301724137931\n",
            "F1-Score: 0.9050131926121372\n"
          ]
        }
      ]
    },
    {
      "cell_type": "markdown",
      "source": [
        "**Maquinas de soporte Vectorial:**"
      ],
      "metadata": {
        "id": "2ltbn_0I70L0"
      }
    },
    {
      "cell_type": "code",
      "source": [
        "model = SVC(kernel='rbf', C=1.0, random_state=42)\n",
        "modelTest(model,X_test,y_test,X_train,y_train)"
      ],
      "metadata": {
        "colab": {
          "base_uri": "https://localhost:8080/"
        },
        "id": "4An2s6ix759F",
        "outputId": "ab66333d-7b68-4f67-d425-e4b707e8d543"
      },
      "execution_count": 7,
      "outputs": [
        {
          "output_type": "stream",
          "name": "stdout",
          "text": [
            "              precision    recall  f1-score   support\n",
            "\n",
            "   Defensivo       0.89      0.93      0.91      1856\n",
            "    Ofensivo       0.92      0.88      0.90      1768\n",
            "\n",
            "    accuracy                           0.91      3624\n",
            "   macro avg       0.91      0.90      0.90      3624\n",
            "weighted avg       0.91      0.91      0.90      3624\n",
            "\n",
            "[[1722  134]\n",
            " [ 210 1558]]\n",
            "Exactitud: 0.9050772626931567\n",
            "Precisión: 0.8913043478260869\n",
            "Recall: 0.927801724137931\n",
            "F1-Score: 0.9091869060190073\n"
          ]
        }
      ]
    },
    {
      "cell_type": "markdown",
      "source": [
        "**Redes Neuronales Artificiales**"
      ],
      "metadata": {
        "id": "JouCBlH9DUZB"
      }
    },
    {
      "cell_type": "code",
      "source": [
        "model = MLPClassifier(hidden_layer_sizes=(100, 100), activation='relu', random_state=42)\n",
        "modelTest(model,X_test,y_test,X_train,y_train)"
      ],
      "metadata": {
        "colab": {
          "base_uri": "https://localhost:8080/"
        },
        "id": "lULMEHImDYcL",
        "outputId": "5e996392-a1d7-46d7-b6e6-15158142d5cc"
      },
      "execution_count": 8,
      "outputs": [
        {
          "output_type": "stream",
          "name": "stderr",
          "text": [
            "/usr/local/lib/python3.10/dist-packages/sklearn/neural_network/_multilayer_perceptron.py:686: ConvergenceWarning: Stochastic Optimizer: Maximum iterations (200) reached and the optimization hasn't converged yet.\n",
            "  warnings.warn(\n"
          ]
        },
        {
          "output_type": "stream",
          "name": "stdout",
          "text": [
            "              precision    recall  f1-score   support\n",
            "\n",
            "   Defensivo       0.91      0.90      0.90      1856\n",
            "    Ofensivo       0.89      0.90      0.90      1768\n",
            "\n",
            "    accuracy                           0.90      3624\n",
            "   macro avg       0.90      0.90      0.90      3624\n",
            "weighted avg       0.90      0.90      0.90      3624\n",
            "\n",
            "[[1664  192]\n",
            " [ 174 1594]]\n",
            "Exactitud: 0.8990066225165563\n",
            "Precisión: 0.9053318824809575\n",
            "Recall: 0.896551724137931\n",
            "F1-Score: 0.9009204114780726\n"
          ]
        }
      ]
    },
    {
      "cell_type": "markdown",
      "source": [
        "# **B. Seleccion y extraccion de caracteresticas.**\n",
        "\n",
        "# **1. Análisis de correlación **"
      ],
      "metadata": {
        "id": "EIdgk6bxO9NW"
      }
    },
    {
      "cell_type": "code",
      "source": [
        "# Filtrar los primeros 100 datos de la clase 1 (Ofensivo) y 2 (defensivo).\n",
        "class_1_data = df[df['Position'] == 1].head(100)\n",
        "class_2_data = df[df['Position'] == 2].head(100)\n",
        "\n",
        "selected_data = pd.concat([class_1_data, class_2_data])\n",
        "\n",
        "# Matriz de correlación.\n",
        "correlation_matrix = selected_data.drop('Position', axis=1).corr(method='pearson')\n",
        "\n",
        "# Mapa de calor utilizando seaborn.\n",
        "fig, ax = plt.subplots(figsize=(10, 8))\n",
        "sns.heatmap(correlation_matrix, annot=True, cmap='coolwarm', fmt=\".2f\", ax=ax)\n",
        "ax.set_xticklabels(correlation_matrix.columns, rotation=45)\n",
        "ax.set_yticklabels(correlation_matrix.columns, rotation=0)\n",
        "ax.set_title('Mapa de calor de la matriz de correlación')\n",
        "plt.show()\n"
      ],
      "metadata": {
        "colab": {
          "base_uri": "https://localhost:8080/",
          "height": 759
        },
        "id": "LN3FT5E6PakZ",
        "outputId": "b4f4d32e-4002-4334-91d4-feaeefda7ebb"
      },
      "execution_count": 9,
      "outputs": [
        {
          "output_type": "display_data",
          "data": {
            "text/plain": [
              "<Figure size 1000x800 with 2 Axes>"
            ],
            "image/png": "[encoded data removed]"
          },
          "metadata": {}
        }
      ]
    },
    {
      "cell_type": "markdown",
      "source": [
        "## 2. Indice de Fisher"
      ],
      "metadata": {
        "id": "BHqZV2rUQPFG"
      }
    },
    {
      "cell_type": "code",
      "source": [
        "\n",
        "# Filtrar los primeros 100 datos de la clase 1 (Ofensivo) y 2 (defensivo).\n",
        "class_1_data = df[df['Position'] == 1].head(100)\n",
        "class_2_data = df[df['Position'] == 2].head(100)\n",
        "\n",
        "# Medidas y Matriz de Covarianza.\n",
        "mean_class_1 = class_1_data.drop('Position', axis=1).mean().values\n",
        "mean_class_2 = class_2_data.drop('Position', axis=1).mean().values\n",
        "cov_class_1 = np.cov(class_1_data.drop('Position', axis=1).values.T)\n",
        "cov_class_2 = np.cov(class_2_data.drop('Position', axis=1).values.T)\n",
        "\n",
        "# Indice de Fisher para cada característica.\n",
        "fisher_scores = ((mean_class_1 - mean_class_2)**2) / (cov_class_1 + cov_class_2)\n",
        "\n",
        "# Media de los scores para cada característica.\n",
        "fisher_scores_mean = np.mean(fisher_scores, axis=0)\n",
        "\n",
        "# Asignar nombres.\n",
        "feature_names = class_1_data.drop('Position', axis=1).columns\n",
        "\n",
        "# Grafico de Barras.\n",
        "plt.bar(feature_names, fisher_scores_mean)\n",
        "plt.xticks(rotation=45)\n",
        "plt.xlabel('Características')\n",
        "plt.ylabel('Índice de Fisher')\n",
        "plt.title('Índice de Fisher para cada característica')\n",
        "plt.show()"
      ],
      "metadata": {
        "colab": {
          "base_uri": "https://localhost:8080/",
          "height": 534
        },
        "id": "l-g6Mt9NVlyh",
        "outputId": "e94a8cee-4a9a-4e2d-90f9-66095abf84ff"
      },
      "execution_count": 10,
      "outputs": [
        {
          "output_type": "display_data",
          "data": {
            "text/plain": [
              "<Figure size 640x480 with 1 Axes>"
            ],
            "image/png": "[encoded data removed]"
          },
          "metadata": {}
        }
      ]
    },
    {
      "cell_type": "markdown",
      "source": [
        "# **2. Metodo de busqueda secuencial ascendente:**"
      ],
      "metadata": {
        "id": "CYpbo9TLnvDG"
      }
    },
    {
      "cell_type": "code",
      "source": [
        "\n",
        "# Clasificador.\n",
        "clf = DecisionTreeClassifier(criterion='gini')\n",
        "\n",
        "# Selector de características secuencial ascendente.\n",
        "sfs = SequentialFeatureSelector(clf, direction='forward')\n",
        "\n",
        "# Ajustar el selector a los datos de entrenamiento.\n",
        "sfs.fit(X_train.astype(int), y_train)\n",
        "\n",
        "# Características seleccionadas.\n",
        "selected_features = X_train[:, list(sfs.support_)]\n",
        "\n",
        "# Entrenar el clasificador.\n",
        "clf.fit(selected_features, y_train)\n",
        "\n",
        "# Predecir las etiquetas de clase para los datos de prueba.\n",
        "y_pred = clf.predict(X_test[:, list(sfs.support_)])\n",
        "\n",
        "# Calcular la exactitud del modelo\n",
        "exactitud = accuracy_score(y_test, y_pred)\n",
        "\n",
        "# Imprimir las características seleccionadas\n",
        "print(\"Características seleccionadas:\", list(sfs.support_))\n",
        "print(\"Exactitud del modelo:\", exactitud)\n"
      ],
      "metadata": {
        "colab": {
          "base_uri": "https://localhost:8080/"
        },
        "id": "teFTQJzKn2z8",
        "outputId": "79f29d19-0976-419f-f361-06111619e7cb"
      },
      "execution_count": 11,
      "outputs": [
        {
          "output_type": "stream",
          "name": "stderr",
          "text": [
            "/usr/local/lib/python3.10/dist-packages/sklearn/feature_selection/_sequential.py:211: FutureWarning: Leaving `n_features_to_select` to None is deprecated in 1.0 and will become 'auto' in 1.3. To keep the same behaviour as with None (i.e. select half of the features) and avoid this warning, you should manually set `n_features_to_select='auto'` and set tol=None when creating an instance.\n",
            "  warnings.warn(\n"
          ]
        },
        {
          "output_type": "stream",
          "name": "stdout",
          "text": [
            "Características seleccionadas: [False, True, False, False, False, True, True]\n",
            "Exactitud del modelo: 0.8460264900662252\n"
          ]
        }
      ]
    },
    {
      "cell_type": "markdown",
      "source": [
        " **Caracterisrticas Seleccionada:**\n",
        "\n",
        "'Finishing'\n",
        "'Dribbling'\n",
        "'Interceptions'"
      ],
      "metadata": {
        "id": "RN3eLWA2zyn8"
      }
    },
    {
      "cell_type": "markdown",
      "source": [
        "**Maquinas de soporte Vectorial:**"
      ],
      "metadata": {
        "id": "R08nRDtjDMm8"
      }
    },
    {
      "cell_type": "code",
      "source": [
        "model = SVC()\n",
        "modelTestASS(model,X_train,y_train,X_test,y_test)"
      ],
      "metadata": {
        "colab": {
          "base_uri": "https://localhost:8080/"
        },
        "id": "IWlbVeZJDOb1",
        "outputId": "5f14fb1e-23f1-438d-dc91-f284d27c330e"
      },
      "execution_count": 12,
      "outputs": [
        {
          "output_type": "stream",
          "name": "stdout",
          "text": [
            "              precision    recall  f1-score   support\n",
            "\n",
            "   Defensivo       0.87      0.93      0.90      1856\n",
            "    Ofensivo       0.92      0.85      0.89      1768\n",
            "\n",
            "    accuracy                           0.89      3624\n",
            "   macro avg       0.90      0.89      0.89      3624\n",
            "weighted avg       0.90      0.89      0.89      3624\n",
            "\n",
            "[[1730  126]\n",
            " [ 261 1507]]\n",
            "Exactitud: 0.8932119205298014\n",
            "Precisión: 0.8689100954294324\n",
            "Recall: 0.9321120689655172\n",
            "F1-Score: 0.8994021315310632\n"
          ]
        }
      ]
    },
    {
      "cell_type": "markdown",
      "source": [
        "**Redes Neuronales Artificiales**"
      ],
      "metadata": {
        "id": "vDr4UO9dDs1v"
      }
    },
    {
      "cell_type": "code",
      "source": [
        "model = MLPClassifier(hidden_layer_sizes=(100, 100), activation='relu', random_state=42)\n",
        "modelTestASS(model,X_train,y_train,X_test,y_test)"
      ],
      "metadata": {
        "colab": {
          "base_uri": "https://localhost:8080/"
        },
        "id": "nuOorfHGDveO",
        "outputId": "2f217dec-bcba-4ce2-bb75-b3795b3b2d9e"
      },
      "execution_count": 13,
      "outputs": [
        {
          "output_type": "stream",
          "name": "stdout",
          "text": [
            "              precision    recall  f1-score   support\n",
            "\n",
            "   Defensivo       0.88      0.91      0.90      1856\n",
            "    Ofensivo       0.91      0.87      0.89      1768\n",
            "\n",
            "    accuracy                           0.89      3624\n",
            "   macro avg       0.89      0.89      0.89      3624\n",
            "weighted avg       0.89      0.89      0.89      3624\n",
            "\n",
            "[[1697  159]\n",
            " [ 229 1539]]\n",
            "Exactitud: 0.8929359823399559\n",
            "Precisión: 0.8811007268951194\n",
            "Recall: 0.9143318965517241\n",
            "F1-Score: 0.8974087784241143\n"
          ]
        }
      ]
    },
    {
      "cell_type": "markdown",
      "source": [
        "**Gradiente Boostring Tree**"
      ],
      "metadata": {
        "id": "ZcbcN8Zl-th6"
      }
    },
    {
      "cell_type": "code",
      "source": [
        "# Crear el modelo de clasificación utilizando Gradient Boosting Tree\n",
        "model = GradientBoostingClassifier()\n",
        "modelTestASS(model,X_train,y_train,X_test,y_test)\n",
        "\n"
      ],
      "metadata": {
        "colab": {
          "base_uri": "https://localhost:8080/"
        },
        "id": "2VKn-6jO-1Wn",
        "outputId": "b48b242b-4081-4485-e836-6db1e9da4fb7"
      },
      "execution_count": 14,
      "outputs": [
        {
          "output_type": "stream",
          "name": "stdout",
          "text": [
            "              precision    recall  f1-score   support\n",
            "\n",
            "   Defensivo       0.88      0.92      0.90      1856\n",
            "    Ofensivo       0.91      0.87      0.89      1768\n",
            "\n",
            "    accuracy                           0.90      3624\n",
            "   macro avg       0.90      0.89      0.90      3624\n",
            "weighted avg       0.90      0.90      0.90      3624\n",
            "\n",
            "[[1711  145]\n",
            " [ 234 1534]]\n",
            "Exactitud: 0.8954194260485652\n",
            "Precisión: 0.8796915167095116\n",
            "Recall: 0.921875\n",
            "F1-Score: 0.9002893975269666\n"
          ]
        }
      ]
    },
    {
      "cell_type": "markdown",
      "source": [
        "# **3. METODO PCA**"
      ],
      "metadata": {
        "id": "9YyPtpJSEziv"
      }
    },
    {
      "cell_type": "code",
      "source": [
        "from sklearn.decomposition import PCA\n",
        "\n",
        "# Instancia de PCA.\n",
        "pca = PCA(n_components=2) \n",
        "\n",
        "# Ajustar y transformar los datos de entrenamiento.\n",
        "X_train_pca = pca.fit_transform(X_train)\n",
        "\n",
        "# Transformar los datos de prueba.\n",
        "X_test_pca = pca.transform(X_test)"
      ],
      "metadata": {
        "id": "Tr3AvOX3tEE2"
      },
      "execution_count": 15,
      "outputs": []
    },
    {
      "cell_type": "markdown",
      "source": [
        "**Maquinas de soporte vectorial**"
      ],
      "metadata": {
        "id": "l5Sd1o1j5-07"
      }
    },
    {
      "cell_type": "code",
      "source": [
        "model = SVC(kernel='rbf', C=1.0, random_state=42)\n",
        "modelTestPCA(model,X_test_pca,y_test,X_train_pca,y_train)"
      ],
      "metadata": {
        "colab": {
          "base_uri": "https://localhost:8080/"
        },
        "id": "ClBnTfA86CWY",
        "outputId": "1b23db4b-844a-47df-dc28-ba6ebf1a2e23"
      },
      "execution_count": 16,
      "outputs": [
        {
          "output_type": "stream",
          "name": "stdout",
          "text": [
            "              precision    recall  f1-score   support\n",
            "\n",
            "   Defensivo       0.87      0.93      0.90      1856\n",
            "    Ofensivo       0.92      0.86      0.89      1768\n",
            "\n",
            "    accuracy                           0.89      3624\n",
            "   macro avg       0.90      0.89      0.89      3624\n",
            "weighted avg       0.90      0.89      0.89      3624\n",
            "\n",
            "[[1718  138]\n",
            " [ 247 1521]]\n",
            "Exactitud: 0.8937637969094923\n",
            "Precisión: 0.8743002544529263\n",
            "Recall: 0.9256465517241379\n",
            "F1-Score: 0.8992410363779116\n"
          ]
        }
      ]
    },
    {
      "cell_type": "markdown",
      "source": [
        "**Redes Neuronales Artificiales**"
      ],
      "metadata": {
        "id": "t96SFkuZ6YpR"
      }
    },
    {
      "cell_type": "code",
      "source": [
        "model = MLPClassifier(hidden_layer_sizes=(100, 100), activation='relu', random_state=42)\n",
        "modelTestPCA(model,X_test_pca,y_test,X_train_pca,y_train)"
      ],
      "metadata": {
        "colab": {
          "base_uri": "https://localhost:8080/"
        },
        "id": "L0mWbYHg6eb2",
        "outputId": "a0ccb957-c27c-4c6d-88b9-34e53267e873"
      },
      "execution_count": 17,
      "outputs": [
        {
          "output_type": "stream",
          "name": "stdout",
          "text": [
            "              precision    recall  f1-score   support\n",
            "\n",
            "   Defensivo       0.88      0.92      0.90      1856\n",
            "    Ofensivo       0.91      0.86      0.89      1768\n",
            "\n",
            "    accuracy                           0.89      3624\n",
            "   macro avg       0.89      0.89      0.89      3624\n",
            "weighted avg       0.89      0.89      0.89      3624\n",
            "\n",
            "[[1711  145]\n",
            " [ 242 1526]]\n",
            "Exactitud: 0.8932119205298014\n",
            "Precisión: 0.8760880696364567\n",
            "Recall: 0.921875\n",
            "F1-Score: 0.8983985297978472\n"
          ]
        }
      ]
    },
    {
      "cell_type": "markdown",
      "source": [
        "**Gradiente Boostring Tree**"
      ],
      "metadata": {
        "id": "x8i1l5pntogQ"
      }
    },
    {
      "cell_type": "code",
      "source": [
        "# Crear el modelo de clasificación utilizando Gradient Boosting Tree\n",
        "model = GradientBoostingClassifier()\n",
        "modelTestPCA(model,X_test_pca,y_test,X_train_pca,y_train)"
      ],
      "metadata": {
        "colab": {
          "base_uri": "https://localhost:8080/"
        },
        "id": "cbUDCZugtsEh",
        "outputId": "13db7baf-cc45-4fa4-f7ef-25b11eb3a8d2"
      },
      "execution_count": 18,
      "outputs": [
        {
          "output_type": "stream",
          "name": "stdout",
          "text": [
            "              precision    recall  f1-score   support\n",
            "\n",
            "   Defensivo       0.88      0.91      0.90      1856\n",
            "    Ofensivo       0.90      0.87      0.89      1768\n",
            "\n",
            "    accuracy                           0.89      3624\n",
            "   macro avg       0.89      0.89      0.89      3624\n",
            "weighted avg       0.89      0.89      0.89      3624\n",
            "\n",
            "[[1692  164]\n",
            " [ 228 1540]]\n",
            "Exactitud: 0.891832229580574\n",
            "Precisión: 0.88125\n",
            "Recall: 0.9116379310344828\n",
            "F1-Score: 0.8961864406779662\n"
          ]
        }
      ]
    }
  ]
}